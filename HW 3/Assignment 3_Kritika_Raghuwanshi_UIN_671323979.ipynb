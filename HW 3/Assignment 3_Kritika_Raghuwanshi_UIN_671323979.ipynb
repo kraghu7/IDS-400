{
 "cells": [
  {
   "cell_type": "code",
   "execution_count": 1,
   "id": "14121316",
   "metadata": {},
   "outputs": [
    {
     "name": "stdout",
     "output_type": "stream",
     "text": [
      "Occurrences for 10,000 rolls: {1: 1641, 2: 1743, 3: 1692, 4: 1664, 5: 1627, 6: 1633}\n",
      "Occurrences for 10 rolls: {1: 2, 2: 2, 3: 0, 4: 3, 5: 2, 6: 1}\n"
     ]
    }
   ],
   "source": [
    "# Answer 1:\n",
    "\n",
    "import random\n",
    "\n",
    "# Initialize dictionaries to store the occurrences for 10,000 rolls and 10 rolls\n",
    "occurrences_10000 = {1: 0, 2: 0, 3: 0, 4: 0, 5: 0, 6: 0}\n",
    "occurrences_10 = {1: 0, 2: 0, 3: 0, 4: 0, 5: 0, 6: 0}\n",
    "\n",
    "# Simulate rolling the dice 10,000 times\n",
    "num_rolls_10000 = 10000\n",
    "for _ in range(num_rolls_10000):\n",
    "    roll_result = random.randint(1, 6)\n",
    "    occurrences_10000[roll_result] += 1\n",
    "\n",
    "# Simulate rolling the dice 10 times\n",
    "num_rolls_10 = 10\n",
    "for _ in range(num_rolls_10):\n",
    "    roll_result = random.randint(1, 6)\n",
    "    occurrences_10[roll_result] += 1\n",
    "\n",
    "# Print the dictionaries containing the occurrences\n",
    "print(\"Occurrences for 10,000 rolls:\", occurrences_10000)\n",
    "print(\"Occurrences for 10 rolls:\", occurrences_10)"
   ]
  },
  {
   "cell_type": "code",
   "execution_count": 2,
   "id": "f38a7c55",
   "metadata": {},
   "outputs": [
    {
     "name": "stdout",
     "output_type": "stream",
     "text": [
      "sentence 1: I like Python programming\n",
      "sentence 2: I like java\n",
      "Then the output is: 6. (they are: i, l, k, e, a, and space)\n"
     ]
    }
   ],
   "source": [
    "#Answer 2:\n",
    "\n",
    "# Input two sentences from the user\n",
    "sentence1 = input(\"sentence 1: \").lower()\n",
    "sentence2 = input(\"sentence 2: \").lower()\n",
    "\n",
    "# Initialize lists to store characters in each sentence\n",
    "char_list_sentence1 = []\n",
    "char_list_sentence2 = []\n",
    "\n",
    "# Iterate through all characters in the first sentence and add them to the list\n",
    "for char in sentence1:\n",
    "    char_list_sentence1.append(char)\n",
    "\n",
    "# Iterate through all characters in the second sentence and add them to the list\n",
    "for char in sentence2:\n",
    "    char_list_sentence2.append(char)\n",
    "\n",
    "# Initialize a list to store common characters in the order they appear\n",
    "common_chars = []\n",
    "\n",
    "# Iterate through the characters in sentence1\n",
    "for char in char_list_sentence1:\n",
    "    if char in char_list_sentence2 and char not in common_chars:\n",
    "        common_chars.append(char)\n",
    "\n",
    "# If space is in common_chars, count it only once and add it to the result list as \"space\"\n",
    "if ' ' in common_chars:\n",
    "    common_chars.remove(' ')\n",
    "    common_chars.append('space')\n",
    "\n",
    "# Create a formatted list of common characters if there are common characters\n",
    "if common_chars:\n",
    "    common_chars_str = ', '.join(common_chars[:-1]) + f', and {common_chars[-1]}' if len(common_chars) > 1 else common_chars[0]\n",
    "    print(f\"Then the output is: {len(common_chars)}. (they are: {common_chars_str})\")\n",
    "else:\n",
    "    print(\"There are no common characters.\")\n"
   ]
  },
  {
   "cell_type": "code",
   "execution_count": 5,
   "id": "fa5774fd",
   "metadata": {},
   "outputs": [
    {
     "name": "stdout",
     "output_type": "stream",
     "text": [
      "sentence: I like computer programming, including Python, Java, and C/C++\n",
      "delimiters (separated by spaces e.g., , / ): , /\n",
      "['I like computer programming', 'including Python', 'Java', 'and C', 'C++']\n"
     ]
    }
   ],
   "source": [
    "#Answer 3:\n",
    "\n",
    "import re\n",
    "\n",
    "# Input sentence and delimiters from the user\n",
    "sentence = input(\"sentence: \")\n",
    "delimiter_input = input(\"delimiters (separated by spaces e.g., , / ): \")\n",
    "\n",
    "# Split the delimiter input into a list\n",
    "delimiters = delimiter_input.split()\n",
    "\n",
    "# Create a pattern for splitting using regular expressions\n",
    "delimiter_pattern = '|'.join(map(re.escape, delimiters))\n",
    "\n",
    "# Split the sentence using the delimiter pattern\n",
    "parts = re.split(delimiter_pattern, sentence)\n",
    "\n",
    "# Remove any empty strings from the result\n",
    "parts = [part.strip() for part in parts if part.strip()]\n",
    "\n",
    "# Print the result\n",
    "print(parts)\n"
   ]
  },
  {
   "cell_type": "code",
   "execution_count": 4,
   "id": "e10c9e55",
   "metadata": {},
   "outputs": [
    {
     "name": "stdout",
     "output_type": "stream",
     "text": [
      "Please select operation: (1: sort by key, 2: sort by value)1\n",
      "a , 3\n",
      "m , 2\n",
      "x , 7\n",
      "y , 2\n",
      "Do you want to perform another operation? (yes/no): yes\n",
      "Please select operation: (1: sort by key, 2: sort by value)2\n",
      "y , 2\n",
      "m , 2\n",
      "a , 3\n",
      "x , 7\n",
      "Do you want to perform another operation? (yes/no): no\n"
     ]
    }
   ],
   "source": [
    "#Answer 4:\n",
    "\n",
    "d = {'x': 7, 'y': 2, 'a': 3, 'm': 2}\n",
    "\n",
    "while True:\n",
    "    choice = input(\"Please select operation: (1: sort by key, 2: sort by value)\")\n",
    "    \n",
    "    if choice == '1':\n",
    "        sorted_d = dict(sorted(d.items()))\n",
    "        for key, value in sorted_d.items():\n",
    "            print(f\"{key} , {value}\")\n",
    "    elif choice == '2':\n",
    "        sorted_d = dict(sorted(d.items(), key=lambda item: item[1]))\n",
    "        for key, value in sorted_d.items():\n",
    "            print(f\"{key} , {value}\")\n",
    "    else:\n",
    "        print(\"Invalid choice. Please select 1 or 2.\")\n",
    "\n",
    "    another = input(\"Do you want to perform another operation? (yes/no): \")\n",
    "    if another.lower() != 'yes':\n",
    "        break\n"
   ]
  },
  {
   "cell_type": "code",
   "execution_count": null,
   "id": "288d2b7e",
   "metadata": {},
   "outputs": [],
   "source": []
  }
 ],
 "metadata": {
  "kernelspec": {
   "display_name": "Python 3 (ipykernel)",
   "language": "python",
   "name": "python3"
  },
  "language_info": {
   "codemirror_mode": {
    "name": "ipython",
    "version": 3
   },
   "file_extension": ".py",
   "mimetype": "text/x-python",
   "name": "python",
   "nbconvert_exporter": "python",
   "pygments_lexer": "ipython3",
   "version": "3.11.4"
  }
 },
 "nbformat": 4,
 "nbformat_minor": 5
}
