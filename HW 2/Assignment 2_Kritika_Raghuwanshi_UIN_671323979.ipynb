{
 "cells": [
  {
   "cell_type": "code",
   "execution_count": 1,
   "id": "6db8c95c",
   "metadata": {},
   "outputs": [
    {
     "name": "stdout",
     "output_type": "stream",
     "text": [
      "Enter a positive integer: 5\n",
      "The sum is: 25\n"
     ]
    }
   ],
   "source": [
    "#Exercise 1:\n",
    "\n",
    "sum = 0\n",
    "\n",
    "#ask the user for an input using a while loop\n",
    "\n",
    "while True:\n",
    "    n = int(input(\"Enter a positive integer: \"))\n",
    "    if n > 0:\n",
    "        break\n",
    "    else:\n",
    "        print(\"The input you gave is not valid. It must be positive.\")\n",
    "\n",
    "#using a for loop to calculate the sum of odd integers\n",
    "#1 is the starting value of the sequence; 2*n is the ending value in the sequence, as we want to include the last odd integer\n",
    "#into the sum (2n-1); finally, 2 is the step size to determine that the sequence increments by 2 to give us odd numbers\n",
    "    \n",
    "for i in range(1, 2*n, 2): \n",
    "    sum += i\n",
    "print(\"The sum is:\",sum)"
   ]
  },
  {
   "cell_type": "code",
   "execution_count": 2,
   "id": "9a11e3f4",
   "metadata": {},
   "outputs": [
    {
     "name": "stdout",
     "output_type": "stream",
     "text": [
      "Enter a positive integer: 7\n",
      "1 \n",
      "1 2 \n",
      "1 2 3 \n",
      "1 2 3 4 \n",
      "1 2 3 4 5 \n",
      "1 2 3 4 5 6 \n",
      "1 2 3 4 5 6 7 \n"
     ]
    }
   ],
   "source": [
    "#Exercise 2:\n",
    "\n",
    "#ask user for an input\n",
    "\n",
    "n = int(input(\"Enter a positive integer: \"))\n",
    "\n",
    "#check if the input is a positive number\n",
    "\n",
    "if(n <= 0):\n",
    "    print(\"The input you gave is not valid. It must be positive.\")\n",
    "else:\n",
    "    #initialize i to start from the first row\n",
    "    i = 1\n",
    "    \n",
    "    #outer loop\n",
    "    while(i <=n ):\n",
    "        #inner loop to print numbers from 1 to i with spaces or tabs\n",
    "        j = 1\n",
    "        while(j <= i):\n",
    "            #end specifies what should be printed at the end of each \"print\" statement\n",
    "            print(j, end=\" \")\n",
    "            j += 1\n",
    "        #print a new line after each row    \n",
    "        print()\n",
    "        i += 1"
   ]
  },
  {
   "cell_type": "code",
   "execution_count": 3,
   "id": "050ad184",
   "metadata": {
    "scrolled": false
   },
   "outputs": [
    {
     "name": "stdout",
     "output_type": "stream",
     "text": [
      "Select operation: 1. Add 2. Subtract 3. Multiply 4. Divide\n",
      "Enter choice (1/2/3/4): 3\n",
      "Enter first number: 15\n",
      "Enter second number: 14\n",
      "15 * 14 = 210\n",
      "Do you want to do another calculation (y/n)? n\n",
      "Bye\n"
     ]
    }
   ],
   "source": [
    "#Exercise 3:\n",
    "\n",
    "while True:\n",
    "    print(\"Select operation: 1. Add 2. Subtract 3. Multiply 4. Divide\", flush=True)\n",
    "\n",
    "    choice = input(\"Enter choice (1/2/3/4): \")\n",
    "\n",
    "    if choice not in ('1', '2', '3', '4'):\n",
    "        print(\"Wrong input\")\n",
    "        continue  # Go back to the beginning of the loop if the choice is not valid.\n",
    "\n",
    "    num1 = int(input(\"Enter first number: \"))\n",
    "    num2 = int(input(\"Enter second number: \"))\n",
    "\n",
    "    if choice == '1':\n",
    "        result = num1 + num2\n",
    "        print(f\"{num1} + {num2} = {result}\")\n",
    "    elif choice == '2':\n",
    "        result = num1 - num2\n",
    "        print(f\"{num1} - {num2} = {result}\")\n",
    "    elif choice == '3':\n",
    "        result = num1 * num2\n",
    "        print(f\"{num1} * {num2} = {result}\")\n",
    "    elif choice == '4':\n",
    "        if num2 == 0:\n",
    "            print(\"Division by zero is not allowed.\")\n",
    "        else:\n",
    "            result = num1 / num2\n",
    "            print(f\"{num1} / {num2} = {result}\")\n",
    "\n",
    "    another_calculation = input(\"Do you want to do another calculation (y/n)? \").lower()\n",
    "\n",
    "    if another_calculation == 'n':\n",
    "        print(\"Bye\")\n",
    "        break  # Exit the loop and end the program if 'n' is entered.\n",
    "    elif another_calculation != 'y':\n",
    "        print(\"Wrong input\")  # Display an error message for invalid input.\n"
   ]
  },
  {
   "cell_type": "code",
   "execution_count": 4,
   "id": "348c0531",
   "metadata": {},
   "outputs": [
    {
     "name": "stdout",
     "output_type": "stream",
     "text": [
      "How many marbles to start with? 10\n",
      "Player #1, there are 10 marbles left. How many marbles will you take? 2\n",
      "Player #2, there are 8 marbles left. How many marbles will you take? 2\n",
      "Player #1, there are 6 marbles left. How many marbles will you take? 2\n",
      "Player #2, there are 4 marbles left. How many marbles will you take? 1\n",
      "Player #1, there are 3 marbles left. How many marbles will you take? 3\n",
      "Player #1, you took the last marble and have won!\n"
     ]
    }
   ],
   "source": [
    "#Exercise 4:\n",
    "\n",
    "num = int(input(\"How many marbles to start with? \"))\n",
    "\n",
    "while num > 0:\n",
    "    p1 = int(input(f\"Player #1, there are {num} marbles left. How many marbles will you take? \"))\n",
    "\n",
    "    while p1 > 3 or p1 > num:\n",
    "        if p1 > 3:\n",
    "            p1 = int(input(\"Please enter a number less than 3: \"))\n",
    "        elif p1 > num:\n",
    "            p1 = int(input(f\"Please enter a number less than or equal to {num}: \"))\n",
    "\n",
    "    num -= p1\n",
    "\n",
    "    if num == 0:\n",
    "        print(\"Player #1, you took the last marble and have won!\")\n",
    "        break\n",
    "\n",
    "    p2 = int(input(f\"Player #2, there are {num} marbles left. How many marbles will you take? \"))\n",
    "\n",
    "    while p2 > 3 or p2 > num:\n",
    "        if p2 > 3:\n",
    "            p2 = int(input(\"Please enter a number less than 3: \"))\n",
    "        elif p2 > num:\n",
    "            p2 = int(input(f\"Please enter a number less than or equal to {num}: \"))\n",
    "\n",
    "    num -= p2\n",
    "\n",
    "    if num == 0:\n",
    "        print(\"Player #2, you took the last marble and have won!\")\n",
    "        break"
   ]
  },
  {
   "cell_type": "code",
   "execution_count": 5,
   "id": "e30c284f",
   "metadata": {},
   "outputs": [
    {
     "name": "stdout",
     "output_type": "stream",
     "text": [
      "Enter a positive integer: 5\n",
      "    *        *\n",
      "   ***      ***\n",
      "  *****    *****\n",
      " *******  *******\n",
      "******************\n"
     ]
    }
   ],
   "source": [
    "#Exercise 5:\n",
    "\n",
    "# Ask the user to enter a positive integer\n",
    "n = int(input(\"Enter a positive integer: \"))\n",
    "\n",
    "# Check if n is positive\n",
    "if n <= 0:\n",
    "    print(\"Please enter a positive integer.\")\n",
    "else:\n",
    "    i = 0\n",
    "\n",
    "    while i < n:\n",
    "        # Print spaces for the left side of the pattern\n",
    "        for j in range(n - i - 1):\n",
    "            print(\" \", end=\"\")\n",
    "\n",
    "        # Print asterisks for the left half of the pattern\n",
    "        for j in range(2 * i + 1):\n",
    "            print(\"*\", end=\"\")\n",
    "\n",
    "        # Print spaces between the two halves\n",
    "        for j in range(2 * (n - i - 1)):\n",
    "            print(\" \", end=\"\")\n",
    "\n",
    "        # Print asterisks for the right half of the pattern\n",
    "        for j in range(2 * i + 1):\n",
    "            print(\"*\", end=\"\")\n",
    "\n",
    "        # Move to the next line for the next row\n",
    "        print()\n",
    "\n",
    "        i += 1"
   ]
  },
  {
   "cell_type": "code",
   "execution_count": 6,
   "id": "e1df8918",
   "metadata": {},
   "outputs": [
    {
     "name": "stdout",
     "output_type": "stream",
     "text": [
      "Approximation of π using 10,000 terms: 3.1414926535900345\n",
      "Approximation of π with a sum difference < 0.001: 3.143588659585789\n"
     ]
    }
   ],
   "source": [
    "pi_approx = 0.0\n",
    "n = 0\n",
    "\n",
    "# Example usage with the number of terms as the stopping criterion\n",
    "while True:\n",
    "    term = (-1) ** n / (2 * n + 1)\n",
    "    pi_approx += term\n",
    "    n += 1\n",
    "\n",
    "    if n >= 10000:  # Stopping criterion: Number of terms\n",
    "        break\n",
    "\n",
    "pi_approx *= 4\n",
    "print(f\"Approximation of π using 10,000 terms: {pi_approx}\")\n",
    "\n",
    "# Example usage with a small sum difference as the stopping criterion\n",
    "pi_approx = 0.0\n",
    "n = 0\n",
    "while True:\n",
    "    term = (-1) ** n / (2 * n + 1)\n",
    "    pi_approx += term\n",
    "    n += 1\n",
    "\n",
    "    if abs(term) < 0.001:  # Stopping criterion: Sum difference\n",
    "        break\n",
    "\n",
    "pi_approx *= 4\n",
    "print(f\"Approximation of π with a sum difference < 0.001: {pi_approx}\")\n"
   ]
  }
 ],
 "metadata": {
  "kernelspec": {
   "display_name": "Python 3 (ipykernel)",
   "language": "python",
   "name": "python3"
  },
  "language_info": {
   "codemirror_mode": {
    "name": "ipython",
    "version": 3
   },
   "file_extension": ".py",
   "mimetype": "text/x-python",
   "name": "python",
   "nbconvert_exporter": "python",
   "pygments_lexer": "ipython3",
   "version": "3.11.4"
  }
 },
 "nbformat": 4,
 "nbformat_minor": 5
}
