{
 "cells": [
  {
   "cell_type": "code",
   "execution_count": 1,
   "id": "751612ed",
   "metadata": {},
   "outputs": [
    {
     "name": "stdout",
     "output_type": "stream",
     "text": [
      "Maximum number is :  8\n"
     ]
    }
   ],
   "source": [
    "# Exercise 1:\n",
    "\n",
    "def get_sum(x : list):\n",
    "    x = sorted(x)\n",
    "    return x[-1]\n",
    "\n",
    "x = get_sum([8,2,3,0,7])\n",
    "print(\"Maximum number is : \", x)"
   ]
  },
  {
   "cell_type": "code",
   "execution_count": 2,
   "id": "f52980f1",
   "metadata": {},
   "outputs": [
    {
     "name": "stdout",
     "output_type": "stream",
     "text": [
      "Values after swapping :  ('123', 'abc')\n"
     ]
    }
   ],
   "source": [
    "# Exercise 2:\n",
    "\n",
    "def swap(a,b):\n",
    "    return b,a\n",
    "\n",
    "x = swap(\"abc\",\"123\")\n",
    "print(\"Values after swapping : \", x)"
   ]
  },
  {
   "cell_type": "code",
   "execution_count": 3,
   "id": "6be01011",
   "metadata": {},
   "outputs": [
    {
     "name": "stdout",
     "output_type": "stream",
     "text": [
      "Reverse sting is :  dcba4321\n"
     ]
    }
   ],
   "source": [
    "# Exercise 3:\n",
    "\n",
    "def reverse_string(x):\n",
    "    str1 = \"\"\n",
    "    for i in x:\n",
    "        str1 = i + str1\n",
    "    return str1\n",
    "\n",
    "y = reverse_string(\"1234abcd\")\n",
    "print(\"Reverse sting is : \", y)"
   ]
  },
  {
   "cell_type": "code",
   "execution_count": null,
   "id": "f285b620",
   "metadata": {},
   "outputs": [],
   "source": []
  }
 ],
 "metadata": {
  "kernelspec": {
   "display_name": "Python 3 (ipykernel)",
   "language": "python",
   "name": "python3"
  },
  "language_info": {
   "codemirror_mode": {
    "name": "ipython",
    "version": 3
   },
   "file_extension": ".py",
   "mimetype": "text/x-python",
   "name": "python",
   "nbconvert_exporter": "python",
   "pygments_lexer": "ipython3",
   "version": "3.11.4"
  }
 },
 "nbformat": 4,
 "nbformat_minor": 5
}
