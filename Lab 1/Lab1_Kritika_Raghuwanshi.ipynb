{
 "cells": [
  {
   "cell_type": "code",
   "execution_count": 1,
   "id": "dfd7be31",
   "metadata": {},
   "outputs": [
    {
     "name": "stdout",
     "output_type": "stream",
     "text": [
      "Hello world!\n",
      "Hello,'word!\n",
      "Hello\tword!\n",
      "Hello\n",
      "world!\n"
     ]
    }
   ],
   "source": [
    "#Answer 1\n",
    "\n",
    "#1.1\n",
    "print(\"Hello world!\")\n",
    "\n",
    "#1.2\n",
    "print(\"Hello,'word!\")\n",
    "\n",
    "#1.3\n",
    "print(\"Hello\\tword!\")\n",
    "\n",
    "#1.4\n",
    "print(\"Hello\\nworld!\")"
   ]
  },
  {
   "cell_type": "code",
   "execution_count": 2,
   "id": "0a79b9ef",
   "metadata": {},
   "outputs": [
    {
     "name": "stdout",
     "output_type": "stream",
     "text": [
      "Value of x+y is: 10\n",
      "Value of x/y is: 2.3333333333333335\n",
      "Value of floor of x/y is: 2\n",
      "Value of x remainder y is: 1\n",
      "Type of variable m is: <class 'str'>\n",
      "Value of y+m is: 5\n",
      "Type of y+m after type conversion is: <class 'int'>\n"
     ]
    }
   ],
   "source": [
    "#Answer 2\n",
    "\n",
    "import math\n",
    "x=7\n",
    "y=3\n",
    "m=\"2.7\"\n",
    "\n",
    "#2.1\n",
    "print(\"Value of x+y is:\", x+y)\n",
    "\n",
    "#2.2\n",
    "print(\"Value of x/y is:\", x/y)\n",
    "\n",
    "#2.3\n",
    "print(\"Value of floor of x/y is:\", math.floor(x/y))\n",
    "\n",
    "#2.4\n",
    "print(\"Value of x remainder y is:\", x%y)\n",
    "\n",
    "#2.5\n",
    "print(\"Type of variable m is:\", type(m))\n",
    "\n",
    "#2.6\n",
    "z=float(m)\n",
    "n=int(z)\n",
    "f=y+n\n",
    "print(\"Value of y+m is:\", f)\n",
    "print(\"Type of y+m after type conversion is:\", type(f))"
   ]
  },
  {
   "cell_type": "code",
   "execution_count": 3,
   "id": "477e511b",
   "metadata": {},
   "outputs": [
    {
     "name": "stdout",
     "output_type": "stream",
     "text": [
      "Enter the first number:10\n",
      "Enter the second number:5\n",
      "Value of x+y is: 15\n",
      "Value of x/y is: 2.0\n"
     ]
    }
   ],
   "source": [
    "#Answer 3\n",
    "\n",
    "num1=input(\"Enter the first number:\")\n",
    "num2=input(\"Enter the second number:\")\n",
    "x=int(num1)\n",
    "y=int(num2)\n",
    "\n",
    "print(\"Value of x+y is:\", x+y)\n",
    "print(\"Value of x/y is:\", x/y)"
   ]
  },
  {
   "cell_type": "code",
   "execution_count": 4,
   "id": "4ae27b16",
   "metadata": {},
   "outputs": [
    {
     "name": "stdout",
     "output_type": "stream",
     "text": [
      "a greater than b is True\n",
      "a equals b is False\n",
      "a is not equal to b is True\n"
     ]
    }
   ],
   "source": [
    "#Answer 4\n",
    "a=10\n",
    "b=7\n",
    "\n",
    "#4.1\n",
    "print(\"a greater than b is\", a>b)\n",
    "\n",
    "#4.2\n",
    "print(\"a equals b is\", a==b)\n",
    "\n",
    "#4.3\n",
    "print(\"a is not equal to b is\", a!=b)"
   ]
  },
  {
   "cell_type": "code",
   "execution_count": 5,
   "id": "5fc4e111",
   "metadata": {},
   "outputs": [
    {
     "name": "stdout",
     "output_type": "stream",
     "text": [
      "Variable a is greater than or equal to b, and a is greater than 5 True\n",
      "Variable a is less than or equal to b, or the value of a is greater than 5 True\n",
      "Value of not a is False\n"
     ]
    }
   ],
   "source": [
    "#Answer 5\n",
    "\n",
    "#5.1\n",
    "print(\"Variable a is greater than or equal to b, and a is greater than 5\", a>=b and a>5)\n",
    "\n",
    "#5.2\n",
    "print(\"Variable a is less than or equal to b, or the value of a is greater than 5\", a<=b or a>5)\n",
    "\n",
    "#5.3\n",
    "print(\"Value of not a is\", not a)"
   ]
  },
  {
   "cell_type": "code",
   "execution_count": 6,
   "id": "f8e26a42",
   "metadata": {},
   "outputs": [
    {
     "name": "stdout",
     "output_type": "stream",
     "text": [
      "True\n",
      "True\n",
      "True\n"
     ]
    }
   ],
   "source": [
    "#Answer 6\n",
    "\n",
    "#6.1\n",
    "print((a+b)>15 or (a-b)< 8) #True because both conditions are true. True and True = True\n",
    "\n",
    "#6.2\n",
    "print((a+b)>15 or ((a-b)<8 and False)) #True because first condition is True and second part is False. True or False = True\n",
    "\n",
    "#6.3\n",
    "print(a+b>15-2*2**4/4 and (not False)) #True because first condition is True and second condition is also True."
   ]
  },
  {
   "cell_type": "code",
   "execution_count": 7,
   "id": "f1768760",
   "metadata": {},
   "outputs": [
    {
     "name": "stdout",
     "output_type": "stream",
     "text": [
      "Enter the number:123456\n",
      "The last two digits of the entered number are: 56\n"
     ]
    }
   ],
   "source": [
    "#Answer 7\n",
    "\n",
    "number=int(input(\"Enter the number:\"))\n",
    "\n",
    "lastTwoDigits=number%100\n",
    "print(\"The last two digits of the entered number are:\", lastTwoDigits)"
   ]
  },
  {
   "cell_type": "code",
   "execution_count": null,
   "id": "426398f2",
   "metadata": {},
   "outputs": [],
   "source": []
  }
 ],
 "metadata": {
  "kernelspec": {
   "display_name": "Python 3 (ipykernel)",
   "language": "python",
   "name": "python3"
  },
  "language_info": {
   "codemirror_mode": {
    "name": "ipython",
    "version": 3
   },
   "file_extension": ".py",
   "mimetype": "text/x-python",
   "name": "python",
   "nbconvert_exporter": "python",
   "pygments_lexer": "ipython3",
   "version": "3.11.4"
  }
 },
 "nbformat": 4,
 "nbformat_minor": 5
}
