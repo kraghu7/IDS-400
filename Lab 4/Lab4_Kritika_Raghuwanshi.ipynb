{
 "cells": [
  {
   "cell_type": "code",
   "execution_count": 2,
   "id": "50ad9d52",
   "metadata": {},
   "outputs": [
    {
     "name": "stdout",
     "output_type": "stream",
     "text": [
      "Type any word: Hello\n",
      "Position0 character is H\n",
      "Position1 character is e\n",
      "Position2 character is l\n",
      "Position3 character is l\n",
      "Position4 character is o\n"
     ]
    }
   ],
   "source": [
    "# Excercise 1\n",
    "\n",
    "word = input(\"Type any word: \")\n",
    "for i in range(len(word)):\n",
    "    print(\"Position\" + str(i) + \" character is \" + word[i])"
   ]
  },
  {
   "cell_type": "code",
   "execution_count": 2,
   "id": "f0b4c8b4",
   "metadata": {},
   "outputs": [
    {
     "name": "stdout",
     "output_type": "stream",
     "text": [
      "your sentence is: Write a Java program to sort an array of given integers using Quick sort Algorithm.\n",
      "The shortest word is :  a\n",
      "The longest word is :  Algorithm.\n"
     ]
    }
   ],
   "source": [
    "# Excercise 2\n",
    "\n",
    "x = input(\"your sentence is: \")\n",
    "words = x.split(' ')\n",
    "\n",
    "min_length = min(words, key = len)\n",
    "max_length = max(words, key = len)\n",
    "\n",
    "print(\"The shortest word is : \", min_length)\n",
    "print(\"The longest word is : \", max_length)"
   ]
  },
  {
   "cell_type": "code",
   "execution_count": null,
   "id": "105db2f9",
   "metadata": {},
   "outputs": [],
   "source": []
  }
 ],
 "metadata": {
  "kernelspec": {
   "display_name": "Python 3 (ipykernel)",
   "language": "python",
   "name": "python3"
  },
  "language_info": {
   "codemirror_mode": {
    "name": "ipython",
    "version": 3
   },
   "file_extension": ".py",
   "mimetype": "text/x-python",
   "name": "python",
   "nbconvert_exporter": "python",
   "pygments_lexer": "ipython3",
   "version": "3.11.4"
  }
 },
 "nbformat": 4,
 "nbformat_minor": 5
}
