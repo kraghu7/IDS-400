{
 "cells": [
  {
   "cell_type": "code",
   "execution_count": 1,
   "id": "8881a325",
   "metadata": {},
   "outputs": [
    {
     "name": "stdout",
     "output_type": "stream",
     "text": [
      "Enter the length of the rectangle: 6\n",
      "Enter the breadth of the rectangle: 7\n",
      "Rectangle is not a square\n"
     ]
    }
   ],
   "source": [
    "#Answer 1:\n",
    "\n",
    "#To check if a rectangle is a square or not, we take inputs for length and breadth of a rectangle and check if they're equal\n",
    "\n",
    "length = int(input(\"Enter the length of the rectangle: \"))\n",
    "breadth = int(input(\"Enter the breadth of the rectangle: \"))\n",
    "\n",
    "if(length == breadth):\n",
    "    print(\"Rectangle is a square\")\n",
    "else:\n",
    "    print(\"Rectangle is not a square\")"
   ]
  },
  {
   "cell_type": "code",
   "execution_count": 2,
   "id": "01abc04e",
   "metadata": {},
   "outputs": [
    {
     "name": "stdout",
     "output_type": "stream",
     "text": [
      "Enter the value of x: 4\n",
      "4 is even\n"
     ]
    }
   ],
   "source": [
    "#Answer 2:\n",
    "\n",
    "#To check if a number is even or not, we use modulus 2 and if it's zero, we return it's even, else it's not\n",
    "\n",
    "x = int(input(\"Enter the value of x: \"))\n",
    "\n",
    "if(x%2 == 0):\n",
    "    print(x,\"is even\")\n",
    "else:\n",
    "    print(x,\"is odd\")"
   ]
  },
  {
   "cell_type": "code",
   "execution_count": 3,
   "id": "19dd936c",
   "metadata": {},
   "outputs": [
    {
     "name": "stdout",
     "output_type": "stream",
     "text": [
      "Enter the value of x: 10\n",
      "Enter the value of y: 7\n",
      "x is greater than y\n"
     ]
    }
   ],
   "source": [
    "#Answer 3:\n",
    "\n",
    "x = int(input(\"Enter the value of x: \"))\n",
    "y = int(input(\"Enter the value of y: \"))\n",
    "\n",
    "if(x<y):\n",
    "    print(\"x is less than y\")\n",
    "elif(x>y):\n",
    "    print(\"x is greater than y\")\n",
    "else:\n",
    "    print(\"x and y are equal\")"
   ]
  },
  {
   "cell_type": "code",
   "execution_count": 4,
   "id": "0dcf1bc4",
   "metadata": {},
   "outputs": [
    {
     "name": "stdout",
     "output_type": "stream",
     "text": [
      "Enter a value: 13\n",
      "Good day\n"
     ]
    }
   ],
   "source": [
    "#Answer 4:\n",
    "\n",
    "value = int(input(\"Enter a value: \"))\n",
    "\n",
    "if(6<=value<10):\n",
    "    print(\"Good morning\")\n",
    "elif(10<=value<12):\n",
    "    print(\"soon time for lunch\")\n",
    "elif(12<=value<18):\n",
    "    print(\"Good day\")\n",
    "elif(18<=value<22):\n",
    "    print(\"Good evening\")\n",
    "else:\n",
    "    print(\"Good night\")"
   ]
  },
  {
   "cell_type": "code",
   "execution_count": 5,
   "id": "97b98eb5",
   "metadata": {},
   "outputs": [
    {
     "name": "stdout",
     "output_type": "stream",
     "text": [
      "Please select your year (freshman, sophomore, junior, senior): sophomore\n",
      "How many courses have you taken so far: 4\n",
      "you have taken 4 courses\n"
     ]
    }
   ],
   "source": [
    "#Answer 5:\n",
    "\n",
    "year = input(\"Please select your year (freshman, sophomore, junior, senior): \")\n",
    "numberOfCourses = int(input(\"How many courses have you taken so far: \"))\n",
    "\n",
    "if (year == 'freshman'):\n",
    "    if(numberOfCourses<4):\n",
    "        print(\"take more on your sophomore year\")\n",
    "    else:\n",
    "        print(\"you are taking enough for the year\")\n",
    "elif (year == 'sophomore'):\n",
    "    print(\"you have taken\",numberOfCourses,\"courses\")\n",
    "elif (year == 'junior'):\n",
    "    if(numberOfCourses<12):\n",
    "        print(\"less than 12 courses\")\n",
    "    else:\n",
    "        print(\"you are taking enough for the year\")\n",
    "elif (year == 'senior'):\n",
    "    if(numberOfCourses>=16):\n",
    "        print(\"you are good to graduate\")\n",
    "    else:\n",
    "        print(\"sorry, you need more courses\")\n",
    "else:\n",
    "    print(\"the year you entered is incorrect\")"
   ]
  }
 ],
 "metadata": {
  "kernelspec": {
   "display_name": "Python 3 (ipykernel)",
   "language": "python",
   "name": "python3"
  },
  "language_info": {
   "codemirror_mode": {
    "name": "ipython",
    "version": 3
   },
   "file_extension": ".py",
   "mimetype": "text/x-python",
   "name": "python",
   "nbconvert_exporter": "python",
   "pygments_lexer": "ipython3",
   "version": "3.11.4"
  }
 },
 "nbformat": 4,
 "nbformat_minor": 5
}
