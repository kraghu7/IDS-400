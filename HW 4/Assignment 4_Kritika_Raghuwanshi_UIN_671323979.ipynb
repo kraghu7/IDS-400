{
 "cells": [
  {
   "cell_type": "code",
   "execution_count": 4,
   "id": "6a90e284",
   "metadata": {},
   "outputs": [
    {
     "data": {
      "text/plain": [
       "{'coke': 10, 'juice': 5, 'milk': 13}"
      ]
     },
     "metadata": {},
     "output_type": "display_data"
    }
   ],
   "source": [
    "# Part 1:\n",
    "\n",
    "# This function imports product data from a file and stores it in a dictionary.\n",
    "def import_stock(filename):\n",
    "    stock = {}  # Create an empty dictionary to store product data.\n",
    "    \n",
    "    try:\n",
    "        with open(filename, 'r') as file:  # Open the specified file for reading.\n",
    "            for line in file:  # Iterate over each line in the file.\n",
    "                product, quantity = line.strip().split(',')  # Split each line into product name and quantity.\n",
    "                stock[product] = int(quantity)  # Add the product name and quantity to the dictionary.\n",
    "    except FileNotFoundError:\n",
    "        print(f\"Error: The file '{filename}' was not found.\")\n",
    "        return stock  # Return an empty dictionary if an error occurs.\n",
    "    \n",
    "    return stock  # Return the populated dictionary containing product data.\n",
    "\n",
    "# Call the import_stock function to read product data from the 'stock.txt' file.\n",
    "stock = import_stock('stock.txt')  # The 'stock' variable now contains product data.\n",
    "\n",
    "# Display the 'stock' dictionary to view the imported product data.\n",
    "display(stock)"
   ]
  },
  {
   "cell_type": "code",
   "execution_count": 5,
   "id": "43ce1df6",
   "metadata": {},
   "outputs": [
    {
     "name": "stdout",
     "output_type": "stream",
     "text": [
      "Overall Statistics:\n",
      "\n",
      "Total amount for all products: 28\n",
      "Average amount for all products: 9.33\n",
      "Maximum amount for a product: 13\n",
      "Minimum amount for a product: 5\n"
     ]
    }
   ],
   "source": [
    "# Part 2:\n",
    "\n",
    "# Define a function to generate overall statistics for all products.\n",
    "def gen_stats(stock):\n",
    "    if not stock:\n",
    "        print(\"No products in stock.\")  # Check if the 'stock' dictionary is empty and print a message if it is.\n",
    "        return\n",
    "\n",
    "    # Calculate the total, average, maximum, and minimum quantities for all products.\n",
    "    total_quantity = sum(stock.values())  # Calculate the sum of all quantities.\n",
    "    average_quantity = total_quantity / len(stock)  # Calculate the average quantity.\n",
    "    max_quantity = max(stock.values())  # Find the maximum quantity.\n",
    "    min_quantity = min(stock.values())  # Find the minimum quantity.\n",
    "\n",
    "    # Display the overall statistics to the user.\n",
    "    print(\"Overall Statistics:\")\n",
    "    print()\n",
    "    print(f\"Total amount for all products: {total_quantity}\")\n",
    "    print(f\"Average amount for all products: {average_quantity:.2f}\")  # Format the average to two decimal places.\n",
    "    print(f\"Maximum amount for a product: {max_quantity}\")\n",
    "    print(f\"Minimum amount for a product: {min_quantity}\")\n",
    "\n",
    "# Call the gen_stats function with the 'stock' dictionary to calculate and display the statistics.\n",
    "gen_stats(stock)"
   ]
  },
  {
   "cell_type": "code",
   "execution_count": 6,
   "id": "527b4ce6",
   "metadata": {
    "scrolled": true
   },
   "outputs": [
    {
     "name": "stdout",
     "output_type": "stream",
     "text": [
      "Enter a product name: orange\n",
      "We don't have this product.\n"
     ]
    }
   ],
   "source": [
    "# Part 3:\n",
    "\n",
    "# Define a function to check the stock quantity for a given product in a case-insensitive manner.\n",
    "def check_stock(stock, product_name):\n",
    "    product_name = product_name.lower()  # Convert the input to lowercase for case-insensitive comparison.\n",
    "    if product_name in stock:  # Check if the converted product name exists in the stock dictionary.\n",
    "        return stock[product_name]  # Return the quantity for the matching product.\n",
    "    else:\n",
    "        return None  # Return None if the product is not found in stock.\n",
    "\n",
    "# Ask the user to input a product name.\n",
    "product_name = input(\"Enter a product name: \").lower()  # Convert the user's input to lowercase.\n",
    "\n",
    "# Call the check_stock function with the stock dictionary and the user's input.\n",
    "quantity = check_stock(stock, product_name)\n",
    "\n",
    "if quantity is not None:  # Check if the product was found in stock.\n",
    "    # Print the product name with the original case and the corresponding quantity.\n",
    "    print(f\"The number in stock for {product_name.capitalize()} is: {quantity}\")\n",
    "else:\n",
    "    print(\"We don't have this product.\")  # Print a message if the product is not found in stock."
   ]
  },
  {
   "cell_type": "code",
   "execution_count": 7,
   "id": "acb967c9",
   "metadata": {
    "scrolled": true
   },
   "outputs": [
    {
     "name": "stdout",
     "output_type": "stream",
     "text": [
      "Enter product names and quantities (e.g., coke, 11, milk, 14): coke, 11\n",
      "The updated dictionary is: {'coke': 11, 'juice': 5, 'milk': 13}\n"
     ]
    }
   ],
   "source": [
    "# Part 4\n",
    "\n",
    "# Define a function to update the stock for a given product.\n",
    "def update_stock(stock, product_name, new_quantity):\n",
    "    # Convert the product name to lowercase for case-insensitive comparison.\n",
    "    product_name = product_name.lower()\n",
    "    if product_name in stock:\n",
    "        stock[product_name] = new_quantity\n",
    "        return True  # Return True if an update was made.\n",
    "    else:\n",
    "        print(f\"We don’t have the product: {product_name}\")\n",
    "        return False  # Return False if no update was made.\n",
    "\n",
    "# Ask the user to input product names and quantities, separated by commas.\n",
    "product_input = input(\"Enter product names and quantities (e.g., coke, 11, milk, 14): \")\n",
    "product_pairs = product_input.split(',')  # Split the input by commas to get pairs of product name and quantity.\n",
    "\n",
    "# Process the pairs in a loop.\n",
    "i = 0\n",
    "updated = False  # To track if any updates were made.\n",
    "while i < len(product_pairs):\n",
    "    product_name = product_pairs[i].strip().lower()  # Convert the product name to lowercase.\n",
    "    new_quantity = int(product_pairs[i + 1].strip())\n",
    "    i += 2  # Advance by 2 to move to the next product pair.\n",
    "\n",
    "    # Call the update_stock function and use a bitwise OR operation to combine update results.\n",
    "    updated |= update_stock(stock, product_name, new_quantity)\n",
    "\n",
    "# Print the updated dictionary if any updates were made.\n",
    "if updated:\n",
    "    print(\"The updated dictionary is:\", stock)"
   ]
  },
  {
   "cell_type": "code",
   "execution_count": null,
   "id": "96187d7e",
   "metadata": {},
   "outputs": [],
   "source": []
  }
 ],
 "metadata": {
  "kernelspec": {
   "display_name": "Python 3 (ipykernel)",
   "language": "python",
   "name": "python3"
  },
  "language_info": {
   "codemirror_mode": {
    "name": "ipython",
    "version": 3
   },
   "file_extension": ".py",
   "mimetype": "text/x-python",
   "name": "python",
   "nbconvert_exporter": "python",
   "pygments_lexer": "ipython3",
   "version": "3.11.4"
  }
 },
 "nbformat": 4,
 "nbformat_minor": 5
}
