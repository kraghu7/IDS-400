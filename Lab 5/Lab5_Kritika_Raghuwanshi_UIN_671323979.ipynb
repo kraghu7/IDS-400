{
 "cells": [
  {
   "cell_type": "code",
   "execution_count": 1,
   "id": "10b7ea0a",
   "metadata": {},
   "outputs": [
    {
     "name": "stdout",
     "output_type": "stream",
     "text": [
      "The datatype of 1452is<class 'int'>\n",
      "The datatype of 11.23is<class 'float'>\n",
      "The datatype of (1+2j)is<class 'complex'>\n",
      "The datatype of Trueis<class 'bool'>\n",
      "The datatype of UICis<class 'str'>\n",
      "The datatype of (0, -1)is<class 'tuple'>\n",
      "The datatype of [5, 12]is<class 'list'>\n",
      "The datatype of {'class': 496, 'section': 'A'}is<class 'dict'>\n"
     ]
    }
   ],
   "source": [
    "# Exercise 1:\n",
    "    \n",
    "datalist = [1452, 11.23, 1+2j, True, \"UIC\", (0,-1), [5,12], {\"class\": 496, \"section\":'A'}]\n",
    "for i in datalist:\n",
    "    print(\"The datatype of \" + str(i) + \"is\" + str(type(i)))"
   ]
  },
  {
   "cell_type": "code",
   "execution_count": 2,
   "id": "28ac3f15",
   "metadata": {},
   "outputs": [
    {
     "name": "stdout",
     "output_type": "stream",
     "text": [
      "Enter the sentence: the world is beautiful!\n",
      "{'t': 2, 'h': 1, 'e': 2, ' ': 4, 'w': 1, 'o': 1, 'r': 1, 'l': 2, 'd': 1, 'i': 2, 's': 1, 'b': 1, 'a': 1, 'u': 2, 'f': 1, '!': 1}\n"
     ]
    }
   ],
   "source": [
    "# Exercise 2:\n",
    "\n",
    "dict1 = {}\n",
    "sentence = input(\"Enter the sentence: \")\n",
    "for i in sentence:\n",
    "    if i == '':\n",
    "        continue\n",
    "    if i in dict1:\n",
    "        dict1[i] += dict1[i]\n",
    "    else:\n",
    "        dict1[i] = 1\n",
    "print(dict1)\n"
   ]
  },
  {
   "cell_type": "code",
   "execution_count": null,
   "id": "a9fdd38d",
   "metadata": {},
   "outputs": [],
   "source": []
  }
 ],
 "metadata": {
  "kernelspec": {
   "display_name": "Python 3 (ipykernel)",
   "language": "python",
   "name": "python3"
  },
  "language_info": {
   "codemirror_mode": {
    "name": "ipython",
    "version": 3
   },
   "file_extension": ".py",
   "mimetype": "text/x-python",
   "name": "python",
   "nbconvert_exporter": "python",
   "pygments_lexer": "ipython3",
   "version": "3.11.4"
  }
 },
 "nbformat": 4,
 "nbformat_minor": 5
}
