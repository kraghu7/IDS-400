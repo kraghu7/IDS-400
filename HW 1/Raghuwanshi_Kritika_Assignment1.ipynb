{
 "cells": [
  {
   "cell_type": "code",
   "execution_count": 2,
   "id": "47e139f0",
   "metadata": {},
   "outputs": [
    {
     "name": "stdout",
     "output_type": "stream",
     "text": [
      "It's raining now.\n",
      "\"\\\\\" is a double backslash\n",
      "1\t2\t3\n"
     ]
    }
   ],
   "source": [
    "#Exercise 1\n",
    "\n",
    "#Answer 1.1:\n",
    "\n",
    "print(\"It\\'s raining now.\")\n",
    "\n",
    "#Answer 1.2:\n",
    "\n",
    "print(\"\\\"\\\\\\\\\\\" is a double backslash\")\n",
    "\n",
    "#Answer 1.3:\n",
    "\n",
    "print(\"1\\t2\\t3\")"
   ]
  },
  {
   "cell_type": "code",
   "execution_count": 3,
   "id": "b1de188a",
   "metadata": {},
   "outputs": [
    {
     "name": "stdout",
     "output_type": "stream",
     "text": [
      "Enter X: 15\n",
      "Enter Y: 10\n",
      "(X+Y)/(X-Y) = 5\n",
      "(X-Y)^3 = 125\n",
      "The last digit of X+Y is: 5\n"
     ]
    }
   ],
   "source": [
    "#Exercise 2\n",
    "\n",
    "#Answer 2.1:\n",
    "\n",
    "X = int(input(\"Enter X: \")) #type conversion to integer, as by default input takes value in String\n",
    "Y = int(input(\"Enter Y: \")) #type conversion to integer, as by default input takes value in String\n",
    "\n",
    "#Answer 2.2:\n",
    "\n",
    "#Condition to check for same values of X and Y, as we'll get a ZeroDivisionError otherwise\n",
    "\n",
    "if (X==Y):\n",
    "    print(\"Both inputs are the same. Please enter a different value for Y\")\n",
    "    Y = int(input(\"Enter Distinct second integer Y: \"))\n",
    "\n",
    "result1 = int((X+Y)/(X-Y)) #type conversion to integer, as division results in float\n",
    "result2 = pow((X-Y), 3)\n",
    "\n",
    "print(\"(X+Y)/(X-Y) =\", result1)\n",
    "print(\"(X-Y)^3 =\", result2)\n",
    "\n",
    "#Answer 2.3:\n",
    "\n",
    "lastDigit = (X+Y)%10\n",
    "\n",
    "print(\"The last digit of X+Y is:\",lastDigit)"
   ]
  },
  {
   "cell_type": "code",
   "execution_count": 4,
   "id": "b0c98382",
   "metadata": {},
   "outputs": [
    {
     "name": "stdout",
     "output_type": "stream",
     "text": [
      "Enter a:1\n",
      "Enter b:-8\n",
      "Enter c:15\n",
      "The roots are 3 and 5\n"
     ]
    }
   ],
   "source": [
    "#Exercise 3\n",
    "\n",
    "import math #importing the math package to perform square root calculations later\n",
    "\n",
    "#Answer 3.1:\n",
    "\n",
    "a = int(input(\"Enter a:\"))\n",
    "b = int(input(\"Enter b:\"))\n",
    "c = int(input(\"Enter c:\"))\n",
    "\n",
    "#Answer 3.2:\n",
    "\n",
    "#To calculate the roots of a quadratic equation, we need to calculate the determinant first:\n",
    "\n",
    "x = pow(b,2)-(4*a*c)\n",
    "\n",
    "#Post that, we check if the value is less than, greater than, or equal to 0.\n",
    "#If value is less than 0, there is no solution. If value is equal to 0, there is one root, else there are 2 roots\n",
    "#reference: https://mathsathome.com/the-discriminant-quadratic/\n",
    "\n",
    "if x < 0:\n",
    "    print(\"No solution\")\n",
    "    \n",
    "elif x >= 0:\n",
    "    root1 = int((-b-math.sqrt(x))/(2*a)) #type conversion\n",
    "    root2 = int((-b+math.sqrt(x))/(2*a)) #type conversion\n",
    "    print(\"The roots are\", root1, \"and\", root2)"
   ]
  },
  {
   "cell_type": "code",
   "execution_count": 5,
   "id": "3a3bd16b",
   "metadata": {},
   "outputs": [
    {
     "name": "stdout",
     "output_type": "stream",
     "text": [
      "Please enter the temperature:60\n",
      "Is this Celsius or Fahrenheit?C\n",
      "60C is 140 in Fahrenheit\n"
     ]
    }
   ],
   "source": [
    "#Exercise 4\n",
    "\n",
    "#taking user input first\n",
    "\n",
    "temperature = int(input(\"Please enter the temperature:\"))\n",
    "unit = input(\"Is this Celsius or Fahrenheit?\")\n",
    "\n",
    "#now using conditional statements, we check if the user inputs a \"C\" or \"c\" for Celcius and \"F\" or \"f\" for Fahrenheit\n",
    "#everything else can be considered an invalid input\n",
    "\n",
    "if unit == 'C':\n",
    "    f_temp = int((temperature*(9/5))+32) #type conversion to int, as the result requested is in integer per the question\n",
    "    print(\"{}{} is {} in Fahrenheit\".format(temperature, unit, f_temp)) #used string formatting. Reference: https://tinyurl.com/String-Formatting\n",
    "    \n",
    "elif unit == 'F':\n",
    "    c_temp = int((5/9)*(temperature-32)) #type conversion to int, as the result requested is in integer per the question\n",
    "    print(\"{}{} is {} in Celsius\".format(temperature, unit, c_temp)) #used string formatting. Reference: https://tinyurl.com/String-Formatting"
   ]
  },
  {
   "cell_type": "code",
   "execution_count": null,
   "id": "e9a326c7",
   "metadata": {},
   "outputs": [],
   "source": []
  }
 ],
 "metadata": {
  "kernelspec": {
   "display_name": "Python 3 (ipykernel)",
   "language": "python",
   "name": "python3"
  },
  "language_info": {
   "codemirror_mode": {
    "name": "ipython",
    "version": 3
   },
   "file_extension": ".py",
   "mimetype": "text/x-python",
   "name": "python",
   "nbconvert_exporter": "python",
   "pygments_lexer": "ipython3",
   "version": "3.11.4"
  }
 },
 "nbformat": 4,
 "nbformat_minor": 5
}
