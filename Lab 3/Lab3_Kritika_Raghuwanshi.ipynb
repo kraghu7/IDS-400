{
 "cells": [
  {
   "cell_type": "code",
   "execution_count": 1,
   "id": "18ed95a0",
   "metadata": {},
   "outputs": [
    {
     "name": "stdout",
     "output_type": "stream",
     "text": [
      "1\t2\t3\t4\t5\t6\t7\t8\t9\t10\t"
     ]
    }
   ],
   "source": [
    "#Answer 1\n",
    "\n",
    "i = 1\n",
    "while i <= 10:\n",
    "    print(i, end =\"\\t\")\n",
    "    i = i+1\n",
    "    "
   ]
  },
  {
   "cell_type": "code",
   "execution_count": 2,
   "id": "65e2cd94",
   "metadata": {},
   "outputs": [
    {
     "name": "stdout",
     "output_type": "stream",
     "text": [
      "* * * * * * * * * * \n",
      "  * * * * * * * * * \n",
      "    * * * * * * * * \n",
      "      * * * * * * * \n",
      "        * * * * * * \n",
      "          * * * * * \n",
      "            * * * * \n",
      "              * * * \n",
      "                * * \n",
      "                  * \n"
     ]
    }
   ],
   "source": [
    "#Answer 2\n",
    "\n",
    "for i in range(10):\n",
    "    for j in range(10):\n",
    "        if(i>j):\n",
    "            print(\" \", end =\" \")\n",
    "        else:\n",
    "            print(\"*\", end =\" \")\n",
    "    print()    "
   ]
  },
  {
   "cell_type": "code",
   "execution_count": 3,
   "id": "6dfd5b28",
   "metadata": {},
   "outputs": [
    {
     "name": "stdout",
     "output_type": "stream",
     "text": [
      "                    *                     \n",
      "                  * * *                   \n",
      "                * * * * *                 \n",
      "              * * * * * * *               \n",
      "            * * * * * * * * *             \n",
      "          * * * * * * * * * * *           \n",
      "        * * * * * * * * * * * * *         \n",
      "      * * * * * * * * * * * * * * *       \n",
      "    * * * * * * * * * * * * * * * * *     \n",
      "  * * * * * * * * * * * * * * * * * * *   \n"
     ]
    }
   ],
   "source": [
    "#Answer 3\n",
    "\n",
    "for i in range(10):\n",
    "    for j in range(10-i):\n",
    "        print(\" \", end =\" \")\n",
    "    for k in range(2*i+1):\n",
    "        print(\"*\", end =\" \")\n",
    "    for l in range(10-i):\n",
    "        print(\" \", end =\" \")\n",
    "    print()"
   ]
  },
  {
   "cell_type": "code",
   "execution_count": 1,
   "id": "223f546d",
   "metadata": {},
   "outputs": [
    {
     "name": "stdout",
     "output_type": "stream",
     "text": [
      "         *         \n",
      "        ***        \n",
      "       *****       \n",
      "      *******      \n",
      "     *********     \n",
      "    ***********    \n",
      "   *************   \n",
      "  ***************  \n",
      " ***************** \n",
      "*******************\n",
      " ***************** \n",
      "  ***************  \n",
      "   *************   \n",
      "    ***********    \n",
      "     *********     \n",
      "      *******      \n",
      "       *****       \n",
      "        ***        \n",
      "         *         \n"
     ]
    }
   ],
   "source": [
    "#Answer 4\n",
    "    \n",
    "for i in range(10):\n",
    "    for j in range(10-i-1):\n",
    "        print(\" \", end =\"\")\n",
    "    for k in range(2*i+1):\n",
    "        print(\"*\", end =\"\")\n",
    "    for l in range(10-i-1):\n",
    "        print(\" \", end =\"\")\n",
    "    print()\n",
    "    \n",
    "for i in range(9):\n",
    "    for j in range(i+1):\n",
    "        print(\" \", end =\"\")\n",
    "    for k in range(2*(9-i)-1):\n",
    "        print(\"*\", end =\"\")\n",
    "    for l in range(i+1):\n",
    "        print(\" \", end =\"\")\n",
    "    print()"
   ]
  },
  {
   "cell_type": "code",
   "execution_count": 2,
   "id": "11330d84",
   "metadata": {},
   "outputs": [
    {
     "name": "stdout",
     "output_type": "stream",
     "text": [
      "Guess the number\n",
      "230\n",
      "Try a bigger number\n",
      "500\n",
      "Try a smaller number\n",
      "900\n",
      "Try a smaller number\n",
      "700\n",
      "Try a smaller number\n",
      "300\n",
      "Try a bigger number\n",
      "400\n",
      "Try a smaller number\n",
      "350\n",
      "Try a bigger number\n",
      "370\n",
      "Try a smaller number\n",
      "360\n",
      "Try a smaller number\n",
      "355\n",
      "Try a smaller number\n",
      "352\n",
      "Try a smaller number\n",
      "351\n",
      "Bingooo!!\n",
      "Good job\n"
     ]
    }
   ],
   "source": [
    "#Answer 5\n",
    "\n",
    "import random\n",
    "\n",
    "number = random.randint(0,1000)\n",
    "guesses = 0\n",
    "\n",
    "print(\"Guess the number\")\n",
    "\n",
    "while guesses < 20:\n",
    "    guess = int(input())\n",
    "    guesses = guesses+1\n",
    "    if guess < number:\n",
    "        print(\"Try a bigger number\")\n",
    "    if guess > number:\n",
    "        print(\"Try a smaller number\")\n",
    "    if guess == number:\n",
    "        print(\"Bingooo!!\")\n",
    "        break\n",
    "        \n",
    "if guesses < 10:\n",
    "    print(\"wonderful job\")\n",
    "elif guesses < 20:\n",
    "    print(\"Good job\")\n",
    "else:\n",
    "    print(\"Try to do better next time\")"
   ]
  },
  {
   "cell_type": "code",
   "execution_count": null,
   "id": "124ee341",
   "metadata": {},
   "outputs": [],
   "source": []
  }
 ],
 "metadata": {
  "kernelspec": {
   "display_name": "Python 3 (ipykernel)",
   "language": "python",
   "name": "python3"
  },
  "language_info": {
   "codemirror_mode": {
    "name": "ipython",
    "version": 3
   },
   "file_extension": ".py",
   "mimetype": "text/x-python",
   "name": "python",
   "nbconvert_exporter": "python",
   "pygments_lexer": "ipython3",
   "version": "3.11.4"
  }
 },
 "nbformat": 4,
 "nbformat_minor": 5
}
