{
 "cells": [
  {
   "cell_type": "code",
   "execution_count": 4,
   "id": "8ff56c2f",
   "metadata": {},
   "outputs": [
    {
     "name": "stdout",
     "output_type": "stream",
     "text": [
      "1\n",
      "2\n",
      "3\n",
      "Hello World!\n",
      "Hello Python!\n",
      "This is test file.\n"
     ]
    }
   ],
   "source": [
    "# Exercise 1(a)\n",
    "\n",
    "import os\n",
    "os.getcwd()\n",
    "\n",
    "os.chdir('C:\\\\Users\\\\kriti\\\\Downloads\\\\Lab7')\n",
    "\n",
    "# read the temp.txt file\n",
    "fh = open('temp.txt')\n",
    "inp = fh.read()\n",
    "print(inp)"
   ]
  },
  {
   "cell_type": "code",
   "execution_count": 5,
   "id": "43231cb5",
   "metadata": {},
   "outputs": [
    {
     "name": "stdout",
     "output_type": "stream",
     "text": [
      "['1\\n', '2\\n', '3\\n', 'Hello World!\\n', 'Hello Python!\\n', 'This is test file.']\n"
     ]
    }
   ],
   "source": [
    "# Exercise 1(b)\n",
    "\n",
    "# Save the contents of temp.txt file in a list\n",
    "fh = open('temp.txt')\n",
    "lines = fh.readlines()\n",
    "print(lines)"
   ]
  },
  {
   "cell_type": "code",
   "execution_count": 6,
   "id": "aa2feb71",
   "metadata": {},
   "outputs": [
    {
     "name": "stdout",
     "output_type": "stream",
     "text": [
      "1\n",
      "2\n",
      "3\n",
      "Hello World!\n",
      "Hello Python!\n",
      "This is test file.\n"
     ]
    }
   ],
   "source": [
    "# Exercise 1(c)\n",
    "\n",
    "# Write the contents into a new file\n",
    "fh = open('test.txt', 'w')\n",
    "fh.write(\"1\\n2\\n3\\nHello World!\\nHello Python!\\nThis is test file.\")\n",
    "fh.close\n",
    "\n",
    "fh = open('test.txt')\n",
    "inp = fh.read()\n",
    "print(inp)"
   ]
  },
  {
   "cell_type": "code",
   "execution_count": 14,
   "id": "30790d07",
   "metadata": {},
   "outputs": [
    {
     "name": "stdout",
     "output_type": "stream",
     "text": [
      "1 : 1\n",
      "2 : 1\n",
      "a : 1\n",
      "already : 1\n",
      "an : 1\n",
      "answers : 1\n",
      "background : 1\n",
      "be : 1\n",
      "before. : 1\n",
      "Beginner : 1\n",
      "but : 1\n",
      "can : 1\n",
      "classes : 1\n",
      "could : 1\n",
      "course. : 1\n",
      "directly : 1\n",
      "found : 1\n",
      "from : 1\n",
      "functions. : 1\n",
      "gone : 1\n",
      "has : 3\n",
      "He : 1\n",
      "in : 1\n",
      "Intermediate : 1\n",
      "introductory : 1\n",
      "just : 2\n",
      "learned : 1\n",
      "means : 2\n",
      "Normally, : 1\n",
      "or : 2\n",
      "problems : 1\n",
      "programming : 1\n",
      "Python : 2\n",
      "Python, : 1\n",
      "relatively : 1\n",
      "solve : 1\n",
      "some : 1\n",
      "someone : 2\n",
      "strong : 1\n",
      "textbooks. : 1\n",
      "the : 2\n",
      "through : 1\n",
      "who : 2\n",
      "with : 1\n"
     ]
    }
   ],
   "source": [
    "# Exercise 2\n",
    "\n",
    "fh = open('article.txt', 'r')\n",
    "inp = fh.read()\n",
    "words = inp.split(' ')\n",
    "\n",
    "dict1 ={}\n",
    "for i in words:\n",
    "    if i in dict1:\n",
    "        dict1[i]+=1\n",
    "    else:\n",
    "        dict1[i]=1\n",
    "\n",
    "sorted_keys = sorted(dict1.keys() , key = lambda x: str(x).lower())\n",
    "\n",
    "for i in sorted_keys:\n",
    "    print(str(i) + \" : \" + str(dict1[i]))"
   ]
  },
  {
   "cell_type": "code",
   "execution_count": null,
   "id": "1352cb9f",
   "metadata": {},
   "outputs": [],
   "source": []
  }
 ],
 "metadata": {
  "kernelspec": {
   "display_name": "Python 3 (ipykernel)",
   "language": "python",
   "name": "python3"
  },
  "language_info": {
   "codemirror_mode": {
    "name": "ipython",
    "version": 3
   },
   "file_extension": ".py",
   "mimetype": "text/x-python",
   "name": "python",
   "nbconvert_exporter": "python",
   "pygments_lexer": "ipython3",
   "version": "3.11.4"
  }
 },
 "nbformat": 4,
 "nbformat_minor": 5
}
